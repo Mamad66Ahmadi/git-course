{
 "cells": [
  {
   "cell_type": "code",
   "execution_count": 1,
   "id": "b55f58fd-b48f-4db4-a0c3-bf44c939f443",
   "metadata": {},
   "outputs": [],
   "source": [
    "import numpy as np"
   ]
  },
  {
   "cell_type": "code",
   "execution_count": 2,
   "id": "2e920c2f-54c5-4354-8671-c82f3b2ba6b0",
   "metadata": {},
   "outputs": [],
   "source": [
    "#pip install numpy"
   ]
  },
  {
   "cell_type": "code",
   "execution_count": 3,
   "id": "c1ff11b1-4aa3-496f-8c16-85f777aeb464",
   "metadata": {},
   "outputs": [],
   "source": [
    "import pandas as pd"
   ]
  },
  {
   "cell_type": "code",
   "execution_count": 4,
   "id": "80c97a80-746f-4e1b-9c65-1fcecc0a2fd6",
   "metadata": {},
   "outputs": [],
   "source": [
    "#pip install pandas"
   ]
  },
  {
   "cell_type": "code",
   "execution_count": 5,
   "id": "db6465d4-c4e5-4c44-868f-262afb175ca7",
   "metadata": {},
   "outputs": [],
   "source": [
    "import pandas as pd"
   ]
  },
  {
   "cell_type": "code",
   "execution_count": 6,
   "id": "54753a56-fa30-4a59-a093-98e676dcaab4",
   "metadata": {},
   "outputs": [],
   "source": [
    "import matplotlib.pyplot as plt"
   ]
  },
  {
   "cell_type": "code",
   "execution_count": 12,
   "id": "387006b8-508d-4653-879d-0c78c5b016fc",
   "metadata": {},
   "outputs": [],
   "source": [
    "#pip install matplotlib"
   ]
  },
  {
   "cell_type": "code",
   "execution_count": 8,
   "id": "60e99d54-ceb1-403c-b87f-b3afd473940a",
   "metadata": {},
   "outputs": [],
   "source": [
    "import matplotlib.pyplot as plt"
   ]
  },
  {
   "cell_type": "code",
   "execution_count": 9,
   "id": "d2b9016c-a596-4a55-8783-eb36e3ffa747",
   "metadata": {},
   "outputs": [],
   "source": [
    "#pip install --trusted-host https://mirror-pypi.runflare.com -i https://mirror-pypi.runflare.com/simple/ seaborn"
   ]
  },
  {
   "cell_type": "code",
   "execution_count": 10,
   "id": "c8f7a847-5b98-4ddf-8fe6-957759c8f0bb",
   "metadata": {},
   "outputs": [],
   "source": [
    "#pip install --trusted-host https://mirror-pypi.runflare.com -i https://mirror-pypi.runflare.com/simple/ matplotlib"
   ]
  },
  {
   "cell_type": "code",
   "execution_count": 11,
   "id": "60218d0f-e402-4f5e-b19a-00ddb6fb6f7f",
   "metadata": {},
   "outputs": [],
   "source": [
    "import seaborn as sns"
   ]
  },
  {
   "cell_type": "code",
   "execution_count": null,
   "id": "eee3f0f9-98ba-4e9b-b301-daefa899ca20",
   "metadata": {},
   "outputs": [],
   "source": []
  }
 ],
 "metadata": {
  "kernelspec": {
   "display_name": "Python 3 (ipykernel)",
   "language": "python",
   "name": "python3"
  },
  "language_info": {
   "codemirror_mode": {
    "name": "ipython",
    "version": 3
   },
   "file_extension": ".py",
   "mimetype": "text/x-python",
   "name": "python",
   "nbconvert_exporter": "python",
   "pygments_lexer": "ipython3",
   "version": "3.12.6"
  }
 },
 "nbformat": 4,
 "nbformat_minor": 5
}
